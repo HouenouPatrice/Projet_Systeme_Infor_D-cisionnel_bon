{
 "cells": [
  {
   "cell_type": "code",
   "execution_count": 1,
   "id": "04d7b784",
   "metadata": {},
   "outputs": [
    {
     "name": "stdout",
     "output_type": "stream",
     "text": [
      "Requirement already satisfied: mysql-connector-python in c:\\users\\lab-mnd\\anaconda3\\lib\\site-packages (8.3.0)\n",
      "Note: you may need to restart the kernel to use updated packages.\n"
     ]
    }
   ],
   "source": [
    "pip install mysql-connector-python\n"
   ]
  },
  {
   "cell_type": "code",
   "execution_count": null,
   "id": "7c5aba02",
   "metadata": {},
   "outputs": [],
   "source": [
    "#Importation des modules \n",
    "import pandas as pd\n",
    "import mysql.connector\n",
    "from mysql.connector import Error\n",
    "\n",
    "#Chargement des données\n",
    "Online_retail_data = pd.read_excel(\"C:/Users/LAB-MND/Desktop/systemeInfedecis/Online Retail.xlsx\")\n",
    "print(Online_retail_data.columns)\n",
    "\n",
    "colonnes = ['Numero_Produit', 'Code_stock', 'description', 'Quantite','Prix_unitaire', 'ID_Client', 'Pays']\n",
    "Online_retail_data.columns = colonnes \n",
    "print('----------------------------------------------------------------')\n",
    "print(Online_retail_data.columns)\n",
    "\n",
    "# Chargement du dataframe dans MYSQL\n",
    "try:\n",
    "    connexion = mysql.connector.connect(host='localhost',\n",
    "                                       database='sid',\n",
    "                                       user='root',\n",
    "                                       password='')\n",
    "    if connexion.is_connected():\n",
    "        print('Connexion à MySQL réussie')\n",
    "except Error as e:\n",
    "    print(f\"Erreur lors de la connexion à MySQL: {e}\")\n",
    "\n",
    "try:\n",
    "    cursor = connexion.cursor()\n",
    "\n",
    "    for i,row in Online_retail_data.iterrows():\n",
    "        sql = \"\"\"INSERT INTO culture_Online_retail_data (Numero_Produit,Code_stock,Description,Date_Facturaction,Prix_unitaire,ID_Client,e,Pays) VALUES (%s,%s,%s,%s,%s,%s,%s)\"\"\"\n",
    "        #print(sql)\n",
    "        cursor.execute(sql, tuple(row))\n",
    "\n",
    "    connexion.commit()\n",
    "    connexion.close()\n",
    "    print(\"DataFrame chargé dans MySQL avec succès!\")\n",
    "except Exception as e:\n",
    "    print(f\"Erreur lors du chargement du DataFrame dans MySQL: {e}\")\n",
    "\n",
    "\n",
    "\n"
   ]
  },
  {
   "cell_type": "code",
   "execution_count": null,
   "id": "538e074c",
   "metadata": {},
   "outputs": [],
   "source": []
  }
 ],
 "metadata": {
  "kernelspec": {
   "display_name": "Python 3 (ipykernel)",
   "language": "python",
   "name": "python3"
  },
  "language_info": {
   "codemirror_mode": {
    "name": "ipython",
    "version": 3
   },
   "file_extension": ".py",
   "mimetype": "text/x-python",
   "name": "python",
   "nbconvert_exporter": "python",
   "pygments_lexer": "ipython3",
   "version": "3.11.5"
  }
 },
 "nbformat": 4,
 "nbformat_minor": 5
}
